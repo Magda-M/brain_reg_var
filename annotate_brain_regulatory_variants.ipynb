{
 "cells": [
  {
   "cell_type": "markdown",
   "metadata": {},
   "source": [
    "# Introduction"
   ]
  },
  {
   "cell_type": "markdown",
   "metadata": {},
   "source": [
    "Source of files, analysis schema, options"
   ]
  },
  {
   "cell_type": "markdown",
   "metadata": {},
   "source": [
    "# Paths to input and output files and 3rd party software"
   ]
  },
  {
   "cell_type": "code",
   "execution_count": 1,
   "metadata": {},
   "outputs": [],
   "source": [
    "### Input files\n",
    "input_vcf = \"data/test_variants.vcf\"\n",
    "promoter_regions = \"data/brain_promoters_active.interval_list\"\n",
    "enhancer_regions = \"data/brain_enhancers_active.interval_list\"\n",
    "\n",
    "### Output folder\n",
    "output = \"output/\"\n",
    "\n",
    "### Software paths\n",
    "gatk = \"/home/researcher/Programs/gatk-4.1.9.0/gatk\""
   ]
  },
  {
   "cell_type": "code",
   "execution_count": 3,
   "metadata": {},
   "outputs": [],
   "source": [
    "!mkdir $output"
   ]
  },
  {
   "cell_type": "markdown",
   "metadata": {},
   "source": [
    "# Select biallelic SNPs located in promoters and enhancers"
   ]
  },
  {
   "cell_type": "code",
   "execution_count": 20,
   "metadata": {},
   "outputs": [
    {
     "name": "stdout",
     "output_type": "stream",
     "text": [
      "Number of variants in the input file: 40\n"
     ]
    }
   ],
   "source": [
    "count_before = !$gatk CountVariants -V $input_vcf\n",
    "print(\"Number of variants in the input file:\", count_before[-4])"
   ]
  },
  {
   "cell_type": "code",
   "execution_count": 21,
   "metadata": {},
   "outputs": [
    {
     "name": "stdout",
     "output_type": "stream",
     "text": [
      "Number of biallelic SNPs in promoter regions: 11\n"
     ]
    }
   ],
   "source": [
    "select_promoter_snps = !$gatk SelectVariants -V $input_vcf -L $promoter_regions --select-type-to-include SNP --restrict-alleles-to BIALLELIC -O \"$output\"promoter_SNPs.vcf\n",
    "count_promoter_snps = !$gatk CountVariants -V \"$output\"promoter_SNPs.vcf\n",
    "print(\"Number of biallelic SNPs in promoter regions:\", count_promoter_snps[-4])"
   ]
  },
  {
   "cell_type": "code",
   "execution_count": 22,
   "metadata": {},
   "outputs": [
    {
     "name": "stdout",
     "output_type": "stream",
     "text": [
      "Number of biallelic SNPs in enhancer regions: 13\n"
     ]
    }
   ],
   "source": [
    "select_enhancer_snps = !$gatk SelectVariants -V $input_vcf -L $enhancer_regions --select-type-to-include SNP --restrict-alleles-to BIALLELIC -O \"$output\"enhancer_SNPs.vcf\n",
    "count_enhancer_snps = !$gatk CountVariants -V \"$output\"enhancer_SNPs.vcf\n",
    "print(\"Number of biallelic SNPs in enhancer regions:\", count_enhancer_snps[-4])"
   ]
  },
  {
   "cell_type": "markdown",
   "metadata": {},
   "source": [
    "# Annotate with allele frequencies from gnomAD genome"
   ]
  },
  {
   "cell_type": "code",
   "execution_count": null,
   "metadata": {},
   "outputs": [],
   "source": []
  }
 ],
 "metadata": {
  "kernelspec": {
   "display_name": "Python 3",
   "language": "python",
   "name": "python3"
  },
  "language_info": {
   "codemirror_mode": {
    "name": "ipython",
    "version": 3
   },
   "file_extension": ".py",
   "mimetype": "text/x-python",
   "name": "python",
   "nbconvert_exporter": "python",
   "pygments_lexer": "ipython3",
   "version": "3.8.5"
  },
  "toc-autonumbering": true
 },
 "nbformat": 4,
 "nbformat_minor": 4
}
