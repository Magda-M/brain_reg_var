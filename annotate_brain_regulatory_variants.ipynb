{
 "cells": [
  {
   "cell_type": "markdown",
   "metadata": {},
   "source": [
    "# Introduction"
   ]
  },
  {
   "cell_type": "markdown",
   "metadata": {},
   "source": [
    "Source of files, analysis schema, \n",
    "options:  \n",
    "- analyzed promoter and enhancer regions\n",
    "- rare MAF threshold  \n",
    "- how to treat missing frequencies  \n",
    "- reference population for binomial test"
   ]
  },
  {
   "cell_type": "markdown",
   "metadata": {},
   "source": [
    "# Imports"
   ]
  },
  {
   "cell_type": "code",
   "execution_count": 92,
   "metadata": {},
   "outputs": [],
   "source": [
    "import pandas as pd\n",
    "from scipy.stats import binom_test\n",
    "from statsmodels.sandbox.stats.multicomp import multipletests"
   ]
  },
  {
   "cell_type": "markdown",
   "metadata": {},
   "source": [
    "# Paths to input and output files and 3rd party software"
   ]
  },
  {
   "cell_type": "markdown",
   "metadata": {},
   "source": [
    "Start by setting paths to input files, output folder and 3rd party software necessary to run this analysis.  \n",
    "Input files include your vcf file with variants and two interval_list files describing promoters and enhancers active in human brain. Common active promoters and common active enhancers identified and described in Stepniak et al [ref] are provided by default but you can replace them with your own regions files if you wish.  \n",
    "All intermediate output files will be saved to the output folder defined here.  \n",
    "If you use the VirtualBox Ubuntu image provided for this analysis the paths to software executables are already set."
   ]
  },
  {
   "cell_type": "code",
   "execution_count": 79,
   "metadata": {},
   "outputs": [],
   "source": [
    "### Input files\n",
    "input_vcf = \"data/test_variants_chr16.vcf.gz\"\n",
    "promoter_regions = \"data/brain_promoters_active.bed\"\n",
    "enhancer_regions = \"data/brain_enhancers_active.bed\"\n",
    "\n",
    "### Output folder\n",
    "output = \"output/\"\n",
    "\n",
    "### Software paths\n",
    "gatk = \"/home/researcher/Programs/gatk-4.1.9.0/gatk\"\n",
    "annovar = \"/home/researcher/Programs/annovar/\""
   ]
  },
  {
   "cell_type": "code",
   "execution_count": 80,
   "metadata": {},
   "outputs": [
    {
     "name": "stdout",
     "output_type": "stream",
     "text": [
      "mkdir: cannot create directory 'output/': File exists\n"
     ]
    }
   ],
   "source": [
    "#Create output folder\n",
    "!mkdir $output"
   ]
  },
  {
   "cell_type": "markdown",
   "metadata": {},
   "source": [
    "Bed files with promoter and enhancer regions will be converted to interval_list files required by GATK."
   ]
  },
  {
   "cell_type": "code",
   "execution_count": 81,
   "metadata": {},
   "outputs": [
    {
     "name": "stdout",
     "output_type": "stream",
     "text": [
      "/home/researcher/Programs/gatk-4.1.9.0/gatk BedToIntervalList -I data/brain_promoters_active.bed -O data/brain_promoters_active.interval_list -SD data/test_variants_chr16.vcf.gz\n",
      "Done\n",
      "/home/researcher/Programs/gatk-4.1.9.0/gatk BedToIntervalList -I data/brain_enhancers_active.bed -O data/brain_enhancers_active.interval_list -SD data/test_variants_chr16.vcf.gz\n",
      "Done\n"
     ]
    }
   ],
   "source": [
    "conversion_logs = []\n",
    "for r, regions in [(\"promoter\", promoter_regions), (\"enhancer\", enhancer_regions)]:\n",
    "    command =\"%s BedToIntervalList -I %s -O %s -SD %s\" % (gatk, regions, regions.replace(\".bed\", \".interval_list\"), input_vcf)\n",
    "    print(command)\n",
    "    log = !$command\n",
    "    conversion_logs.append(log)\n",
    "    print(\"Done\")"
   ]
  },
  {
   "cell_type": "markdown",
   "metadata": {},
   "source": [
    "Terminal output from 3rd party software is stored in log variables. You can check them if you suspect that something could have gone wrong during the calculations:"
   ]
  },
  {
   "cell_type": "code",
   "execution_count": 82,
   "metadata": {},
   "outputs": [
    {
     "data": {
      "text/plain": [
       "['14:15:15.330 INFO  NativeLibraryLoader - Loading libgkl_compression.so from jar:file:/home/researcher/Programs/gatk-4.1.9.0/gatk-package-4.1.9.0-local.jar!/com/intel/gkl/native/libgkl_compression.so',\n",
       " '[Thu Feb 04 14:15:15 CET 2021] BedToIntervalList --INPUT data/brain_promoters_active.bed --SEQUENCE_DICTIONARY data/test_variants_chr16.vcf.gz --OUTPUT data/brain_promoters_active.interval_list --SORT true --UNIQUE false --DROP_MISSING_CONTIGS false --VERBOSITY INFO --QUIET false --VALIDATION_STRINGENCY STRICT --COMPRESSION_LEVEL 2 --MAX_RECORDS_IN_RAM 500000 --CREATE_INDEX false --CREATE_MD5_FILE false --GA4GH_CLIENT_SECRETS client_secrets.json --help false --version false --showHidden false --USE_JDK_DEFLATER false --USE_JDK_INFLATER false',\n",
       " 'Feb 04, 2021 2:15:15 PM shaded.cloud_nio.com.google.auth.oauth2.ComputeEngineCredentials runningOnComputeEngine',\n",
       " 'INFO: Failed to detect whether we are running on Google Compute Engine.',\n",
       " '[Thu Feb 04 14:15:15 CET 2021] Executing as researcher@brain-reg-var on Linux 5.8.0-41-generic amd64; OpenJDK 64-Bit Server VM 11.0.9.1+1-Ubuntu-0ubuntu1.20.04; Deflater: Intel; Inflater: Intel; Provider GCS is available; Picard version: Version:4.1.9.0',\n",
       " 'INFO\\t2021-02-04 14:15:15\\tBedToIntervalList\\tWrote 14920 intervals spanning a total of 25573839 bases',\n",
       " '[Thu Feb 04 14:15:15 CET 2021] picard.util.BedToIntervalList done. Elapsed time: 0.01 minutes.',\n",
       " 'Runtime.totalMemory()=193986560',\n",
       " 'Tool returned:',\n",
       " '0',\n",
       " 'Using GATK jar /home/researcher/Programs/gatk-4.1.9.0/gatk-package-4.1.9.0-local.jar',\n",
       " 'Running:',\n",
       " '    java -Dsamjdk.use_async_io_read_samtools=false -Dsamjdk.use_async_io_write_samtools=true -Dsamjdk.use_async_io_write_tribble=false -Dsamjdk.compression_level=2 -jar /home/researcher/Programs/gatk-4.1.9.0/gatk-package-4.1.9.0-local.jar BedToIntervalList -I data/brain_promoters_active.bed -O data/brain_promoters_active.interval_list -SD data/test_variants_chr16.vcf.gz']"
      ]
     },
     "execution_count": 82,
     "metadata": {},
     "output_type": "execute_result"
    }
   ],
   "source": [
    "conversion_logs[0]"
   ]
  },
  {
   "cell_type": "markdown",
   "metadata": {},
   "source": [
    "# Select biallelic SNPs located in promoters and enhancers"
   ]
  },
  {
   "cell_type": "markdown",
   "metadata": {},
   "source": [
    "In the first step of the analysis biallelic SNPs located in promoter and enhancer regions are selected from the input .vcf files. Two vcf files are generated in this step: promoter_SNPs.vcf and enhancer_SNPs.vcf"
   ]
  },
  {
   "cell_type": "code",
   "execution_count": 83,
   "metadata": {},
   "outputs": [
    {
     "name": "stdout",
     "output_type": "stream",
     "text": [
      "Number of variants in the input file: 11088\n"
     ]
    }
   ],
   "source": [
    "count_before = !$gatk CountVariants -V $input_vcf\n",
    "print(\"Number of variants in the input file:\", count_before[-4])"
   ]
  },
  {
   "cell_type": "code",
   "execution_count": 84,
   "metadata": {},
   "outputs": [
    {
     "name": "stdout",
     "output_type": "stream",
     "text": [
      "/home/researcher/Programs/gatk-4.1.9.0/gatk SelectVariants -V data/test_variants_chr16.vcf.gz -L data/brain_promoters_active.bed --select-type-to-include SNP --restrict-alleles-to BIALLELIC -O output/promoter_SNPs.vcf\n",
      "Done\n",
      "/home/researcher/Programs/gatk-4.1.9.0/gatk CountVariants -V output/promoter_SNPs.vcf\n",
      "Done\n",
      "Number of biallelic SNPs in promoter regions: 3936\n",
      "/home/researcher/Programs/gatk-4.1.9.0/gatk SelectVariants -V data/test_variants_chr16.vcf.gz -L data/brain_enhancers_active.bed --select-type-to-include SNP --restrict-alleles-to BIALLELIC -O output/enhancer_SNPs.vcf\n",
      "Done\n",
      "/home/researcher/Programs/gatk-4.1.9.0/gatk CountVariants -V output/enhancer_SNPs.vcf\n",
      "Done\n",
      "Number of biallelic SNPs in enhancer regions: 2446\n"
     ]
    }
   ],
   "source": [
    "select_logs = []\n",
    "count_logs = []\n",
    "for r, regions in [(\"promoter\", promoter_regions), (\"enhancer\", enhancer_regions)]:\n",
    "    command1 =\"%s SelectVariants -V %s -L %s --select-type-to-include SNP --restrict-alleles-to BIALLELIC -O %s%s_SNPs.vcf\" % (gatk, input_vcf, regions, output, r)\n",
    "    print(command1)\n",
    "    log1 = !$command1\n",
    "    select_logs.append(log1)\n",
    "    print(\"Done\")\n",
    "    \n",
    "    command2 = \"%s CountVariants -V %s%s_SNPs.vcf\" % (gatk, output, r)\n",
    "    print(command2)\n",
    "    log2 = !$command2\n",
    "    count_logs.append(log2)\n",
    "    print(\"Done\")\n",
    "    print(\"Number of biallelic SNPs in %s regions:\" % r, log2[-4])"
   ]
  },
  {
   "cell_type": "markdown",
   "metadata": {},
   "source": [
    "# Annotate with allele frequencies from gnomAD genome"
   ]
  },
  {
   "cell_type": "markdown",
   "metadata": {},
   "source": [
    "We will use ANNOVAR [ref] to annotate promoter and enhancer SNPs with population frequencies from the gnomAD genome resource."
   ]
  },
  {
   "cell_type": "code",
   "execution_count": 85,
   "metadata": {},
   "outputs": [
    {
     "name": "stdout",
     "output_type": "stream",
     "text": [
      "perl /home/researcher/Programs/annovar/table_annovar.pl output/promoter_SNPs.vcf /home/researcher/Programs/annovar/humandb/ -buildver hg38 -remove -protocol gnomad_genome -operation f -nastring . -vcfinput -out output/promoter_SNPs\n",
      "Done\n",
      "perl /home/researcher/Programs/annovar/table_annovar.pl output/enhancer_SNPs.vcf /home/researcher/Programs/annovar/humandb/ -buildver hg38 -remove -protocol gnomad_genome -operation f -nastring . -vcfinput -out output/enhancer_SNPs\n",
      "Done\n"
     ]
    }
   ],
   "source": [
    "annovar_logs = []\n",
    "for r in [\"promoter\", \"enhancer\"]:\n",
    "    command = \"perl %stable_annovar.pl %s%s_SNPs.vcf %shumandb/ -buildver hg38 -remove -protocol gnomad_genome -operation f -nastring . -vcfinput -out %s%s_SNPs\" % (annovar, output, r, annovar, output, r)\n",
    "    print(command)\n",
    "    log = !$command\n",
    "    annovar_logs.append(log)\n",
    "    print(\"Done\")"
   ]
  },
  {
   "cell_type": "code",
   "execution_count": 86,
   "metadata": {},
   "outputs": [
    {
     "name": "stdout",
     "output_type": "stream",
     "text": [
      "total 35M\n",
      "-rw-rw-r-- 1 researcher researcher  471 Feb  4 13:55 promoter_SNPs.hg38_multianno.csv\n",
      "-rw-rw-r-- 1 researcher researcher  288 Feb  4 13:56 promoter_SNPs.csv\n",
      "-rw-rw-r-- 1 researcher researcher 4.5M Feb  4 14:15 promoter_SNPs.hg38_multianno.nomissing.vcf\n",
      "-rw-rw-r-- 1 researcher researcher 2.9M Feb  4 14:15 enhancer_SNPs.hg38_multianno.nomissing.vcf\n",
      "-rw-rw-r-- 1 researcher researcher 682K Feb  4 14:15 promoter_SNPs.hg38_multianno.nomissing.gnomad_below_0.01.vcf\n",
      "-rw-rw-r-- 1 researcher researcher 113K Feb  4 14:15 promoter_SNPs.hg38_multianno.nomissing.gnomad_below_0.01.vcf.idx\n",
      "-rw-rw-r-- 1 researcher researcher 417K Feb  4 14:15 enhancer_SNPs.hg38_multianno.nomissing.gnomad_below_0.01.vcf\n",
      "-rw-rw-r-- 1 researcher researcher 113K Feb  4 14:15 enhancer_SNPs.hg38_multianno.nomissing.gnomad_below_0.01.vcf.idx\n",
      "-rw-rw-r-- 1 researcher researcher 3.6M Feb  4 14:15 promoter_SNPs.vcf\n",
      "-rw-rw-r-- 1 researcher researcher 117K Feb  4 14:15 promoter_SNPs.vcf.idx\n",
      "-rw-rw-r-- 1 researcher researcher 2.4M Feb  4 14:15 enhancer_SNPs.vcf\n",
      "-rw-rw-r-- 1 researcher researcher 117K Feb  4 14:15 enhancer_SNPs.vcf.idx\n",
      "-rw-rw-r-- 1 researcher researcher 3.6M Feb  4 14:15 promoter_SNPs.avinput\n",
      "-rw-rw-r-- 1 researcher researcher 3.8M Feb  4 14:17 promoter_SNPs.hg38_multianno.txt\n",
      "-rw-rw-r-- 1 researcher researcher 4.5M Feb  4 14:17 promoter_SNPs.hg38_multianno.vcf\n",
      "-rw-rw-r-- 1 researcher researcher 2.3M Feb  4 14:17 enhancer_SNPs.avinput\n",
      "-rw-rw-r-- 1 researcher researcher 2.4M Feb  4 14:18 enhancer_SNPs.hg38_multianno.txt\n",
      "-rw-rw-r-- 1 researcher researcher 2.9M Feb  4 14:18 enhancer_SNPs.hg38_multianno.vcf\n"
     ]
    }
   ],
   "source": [
    "!ls -lrth $output/"
   ]
  },
  {
   "cell_type": "markdown",
   "metadata": {},
   "source": [
    "Annovar has generated two \\*.hg38_multianno.vcf files which contain frequency annotations."
   ]
  },
  {
   "cell_type": "markdown",
   "metadata": {},
   "source": [
    "## Select SNPs with MAF < 0.01"
   ]
  },
  {
   "cell_type": "markdown",
   "metadata": {},
   "source": [
    "In the next step we will choose only rare SNPs - those with minor allele frequency (MAF) below 0.01 in all populations included in gnomAD genome.  \n",
    "  \n",
    "First we will replace \".\", which marks missing MAF values, with \"100.\". As a result all variants with missing frequency data will be filtered out in the next step. You can motify this behaviour by changing the value which is inserted instead of \".\" but it must be a float value for the filtering to work properly. For example if you would like to treat missing data as equal to very low frequency you may replace \"100.\" with \"0.0\"."
   ]
  },
  {
   "cell_type": "code",
   "execution_count": 87,
   "metadata": {},
   "outputs": [],
   "source": [
    "annotations = ['gnomAD_genome_ALL',\n",
    "             'gnomAD_genome_AFR',\n",
    "             'gnomAD_genome_AMR',\n",
    "             'gnomAD_genome_ASJ',\n",
    "             'gnomAD_genome_EAS',\n",
    "             'gnomAD_genome_FIN',\n",
    "             'gnomAD_genome_NFE',\n",
    "             'gnomAD_genome_OTH']\n",
    "for r in [\"promoter\", \"enhancer\"]:\n",
    "    with open('%s%s_SNPs.hg38_multianno.nomissing.vcf' % (output, r), 'w') as o:\n",
    "        for line in open('%s%s_SNPs.hg38_multianno.vcf' % (output, r)).readlines():    \n",
    "            for el in annotations:\n",
    "                if el + '=.' in line:\n",
    "                    line = line.replace(el + '=.', el + '=100.0')\n",
    "            o.write(line)"
   ]
  },
  {
   "cell_type": "markdown",
   "metadata": {},
   "source": [
    "The \\*hg38_multianno.nomissing.vcf files contain \".\" frequency values replaced by 100.0.  \n",
    "\n",
    "Now we select rare variants and save them in \\*.hg38_multianno.nomissing.gnomad_below_0.01.vcf files."
   ]
  },
  {
   "cell_type": "code",
   "execution_count": 88,
   "metadata": {},
   "outputs": [
    {
     "name": "stdout",
     "output_type": "stream",
     "text": [
      "Done\n",
      "Done\n"
     ]
    }
   ],
   "source": [
    "select_rare_logs = []\n",
    "for r in [\"promoter\", \"enhancer\"]:\n",
    "    command = \"%s SelectVariants -V %s%s_SNPs.hg38_multianno.nomissing.vcf\" \\\n",
    "            \" -select 'gnomAD_genome_ALL < 0.01'\" \\\n",
    "            \" -select 'gnomAD_genome_AFR < 0.01'\" \\\n",
    "            \" -select 'gnomAD_genome_AMR < 0.01'\" \\\n",
    "            \" -select 'gnomAD_genome_ASJ < 0.01'\" \\\n",
    "            \" -select 'gnomAD_genome_EAS < 0.01'\" \\\n",
    "            \" -select 'gnomAD_genome_FIN < 0.01'\" \\\n",
    "            \" -select 'gnomAD_genome_NFE < 0.01'\" \\\n",
    "            \" -select 'gnomAD_genome_OTH < 0.01'\" \\\n",
    "            \" -O %s%s_SNPs.hg38_multianno.nomissing.gnomad_below_0.01.vcf\" % (gatk, output, r, output, r) \n",
    "    log = !$command\n",
    "    select_rare_logs.append(log)\n",
    "    print(\"Done\")"
   ]
  },
  {
   "cell_type": "markdown",
   "metadata": {},
   "source": [
    "Let's check how many variants have been selected."
   ]
  },
  {
   "cell_type": "code",
   "execution_count": 89,
   "metadata": {},
   "outputs": [
    {
     "name": "stdout",
     "output_type": "stream",
     "text": [
      "/home/researcher/Programs/gatk-4.1.9.0/gatk CountVariants -V output/promoter_SNPs.hg38_multianno.nomissing.gnomad_below_0.01.vcf\n",
      "Done\n",
      "Number of rare SNPs in promoter regions: 474\n",
      "/home/researcher/Programs/gatk-4.1.9.0/gatk CountVariants -V output/enhancer_SNPs.hg38_multianno.nomissing.gnomad_below_0.01.vcf\n",
      "Done\n",
      "Number of rare SNPs in enhancer regions: 223\n"
     ]
    }
   ],
   "source": [
    "count_rare_logs = []\n",
    "for r in [\"promoter\", \"enhancer\"]:\n",
    "    command = \"%s CountVariants -V %s%s_SNPs.hg38_multianno.nomissing.gnomad_below_0.01.vcf\" % (gatk, output, r)\n",
    "    print(command)\n",
    "    log = !$command\n",
    "    count_rare_logs.append(log)\n",
    "    print(\"Done\")\n",
    "    print(\"Number of rare SNPs in %s regions:\" % r, log[-4])"
   ]
  },
  {
   "cell_type": "markdown",
   "metadata": {},
   "source": [
    "# Choose SNPs enriched in analyzed cohort compared to chosen population"
   ]
  },
  {
   "cell_type": "markdown",
   "metadata": {},
   "source": [
    "We will now use binomial test to choose SNPs enriched in out analyzed cohort compared to population. Since the variants anayzed in the test example are from Polish population gnomad_NFE (non-Finnish European) population is chosen but you can modify this option according to your needs.  \n",
    "\n",
    "First we need to reformat vcf files to csv to be able to read them with pandas. For this we will use the VariantsToTable tool from the GATK package. You can specify fields from the vcf which will be present in the csv. Here I choose information about SNP position, REF and ALT alleles, allele counts and frequencies in the analyzed cohort and gnomAD genome frequencies in global population (gnomAD_genome_ALL) and non-Finnish Europeans (gnomAD_genome_NFE)."
   ]
  },
  {
   "cell_type": "code",
   "execution_count": 93,
   "metadata": {},
   "outputs": [
    {
     "name": "stdout",
     "output_type": "stream",
     "text": [
      "/home/researcher/Programs/gatk-4.1.9.0/gatk VariantsToTable  -V output/promoter_SNPs.hg38_multianno.nomissing.gnomad_below_0.01.vcf -F CHROM -F POS -F REF -F ALT -F AC -F AF -F AN -F gnomAD_genome_ALL -F gnomAD_genome_NFE -O output/promoter_SNPs.hg38_multianno.nomissing.gnomad_below_0.01.csv\n",
      "Done\n",
      "/home/researcher/Programs/gatk-4.1.9.0/gatk VariantsToTable  -V output/enhancer_SNPs.hg38_multianno.nomissing.gnomad_below_0.01.vcf -F CHROM -F POS -F REF -F ALT -F AC -F AF -F AN -F gnomAD_genome_ALL -F gnomAD_genome_NFE -O output/enhancer_SNPs.hg38_multianno.nomissing.gnomad_below_0.01.csv\n",
      "Done\n"
     ]
    }
   ],
   "source": [
    "totable_logs = []\n",
    "for r in [\"promoter\", \"enhancer\"]:\n",
    "    command = \"%s VariantsToTable  -V %s%s_SNPs.hg38_multianno.nomissing.gnomad_below_0.01.vcf \" \\\n",
    "    \"-F CHROM -F POS -F REF -F ALT -F AC -F AF -F AN \" \\\n",
    "    \"-F gnomAD_genome_ALL -F gnomAD_genome_NFE \" \\\n",
    "    \"-O %s%s_SNPs.hg38_multianno.nomissing.gnomad_below_0.01.csv\" % (gatk, output, r, output, r)\n",
    "    print(command)\n",
    "    log = !$command\n",
    "    totable_logs.append(log)\n",
    "    print(\"Done\")"
   ]
  },
  {
   "cell_type": "markdown",
   "metadata": {},
   "source": [
    "Read generated csv files with pandas and inspect their contents."
   ]
  },
  {
   "cell_type": "code",
   "execution_count": 94,
   "metadata": {},
   "outputs": [
    {
     "data": {
      "text/html": [
       "<div>\n",
       "<style scoped>\n",
       "    .dataframe tbody tr th:only-of-type {\n",
       "        vertical-align: middle;\n",
       "    }\n",
       "\n",
       "    .dataframe tbody tr th {\n",
       "        vertical-align: top;\n",
       "    }\n",
       "\n",
       "    .dataframe thead th {\n",
       "        text-align: right;\n",
       "    }\n",
       "</style>\n",
       "<table border=\"1\" class=\"dataframe\">\n",
       "  <thead>\n",
       "    <tr style=\"text-align: right;\">\n",
       "      <th></th>\n",
       "      <th>CHROM</th>\n",
       "      <th>POS</th>\n",
       "      <th>REF</th>\n",
       "      <th>ALT</th>\n",
       "      <th>AC</th>\n",
       "      <th>AF</th>\n",
       "      <th>AN</th>\n",
       "      <th>gnomAD_genome_ALL</th>\n",
       "      <th>gnomAD_genome_NFE</th>\n",
       "      <th>Unnamed: 9</th>\n",
       "    </tr>\n",
       "  </thead>\n",
       "  <tbody>\n",
       "    <tr>\n",
       "      <th>0</th>\n",
       "      <td>chr16</td>\n",
       "      <td>76736</td>\n",
       "      <td>G</td>\n",
       "      <td>A</td>\n",
       "      <td>2</td>\n",
       "      <td>0.043</td>\n",
       "      <td>46</td>\n",
       "      <td>0.000065</td>\n",
       "      <td>0.0001</td>\n",
       "      <td>NaN</td>\n",
       "    </tr>\n",
       "    <tr>\n",
       "      <th>1</th>\n",
       "      <td>chr16</td>\n",
       "      <td>138854</td>\n",
       "      <td>A</td>\n",
       "      <td>G</td>\n",
       "      <td>1</td>\n",
       "      <td>0.022</td>\n",
       "      <td>46</td>\n",
       "      <td>0.005400</td>\n",
       "      <td>0.0090</td>\n",
       "      <td>NaN</td>\n",
       "    </tr>\n",
       "    <tr>\n",
       "      <th>2</th>\n",
       "      <td>chr16</td>\n",
       "      <td>165546</td>\n",
       "      <td>T</td>\n",
       "      <td>C</td>\n",
       "      <td>1</td>\n",
       "      <td>0.022</td>\n",
       "      <td>46</td>\n",
       "      <td>0.000600</td>\n",
       "      <td>0.0011</td>\n",
       "      <td>NaN</td>\n",
       "    </tr>\n",
       "    <tr>\n",
       "      <th>3</th>\n",
       "      <td>chr16</td>\n",
       "      <td>165666</td>\n",
       "      <td>G</td>\n",
       "      <td>A</td>\n",
       "      <td>2</td>\n",
       "      <td>0.043</td>\n",
       "      <td>46</td>\n",
       "      <td>0.001400</td>\n",
       "      <td>0.0022</td>\n",
       "      <td>NaN</td>\n",
       "    </tr>\n",
       "    <tr>\n",
       "      <th>4</th>\n",
       "      <td>chr16</td>\n",
       "      <td>228588</td>\n",
       "      <td>A</td>\n",
       "      <td>G</td>\n",
       "      <td>1</td>\n",
       "      <td>0.022</td>\n",
       "      <td>46</td>\n",
       "      <td>0.003900</td>\n",
       "      <td>0.0067</td>\n",
       "      <td>NaN</td>\n",
       "    </tr>\n",
       "  </tbody>\n",
       "</table>\n",
       "</div>"
      ],
      "text/plain": [
       "   CHROM     POS REF ALT  AC     AF  AN  gnomAD_genome_ALL  gnomAD_genome_NFE  \\\n",
       "0  chr16   76736   G   A   2  0.043  46           0.000065             0.0001   \n",
       "1  chr16  138854   A   G   1  0.022  46           0.005400             0.0090   \n",
       "2  chr16  165546   T   C   1  0.022  46           0.000600             0.0011   \n",
       "3  chr16  165666   G   A   2  0.043  46           0.001400             0.0022   \n",
       "4  chr16  228588   A   G   1  0.022  46           0.003900             0.0067   \n",
       "\n",
       "   Unnamed: 9  \n",
       "0         NaN  \n",
       "1         NaN  \n",
       "2         NaN  \n",
       "3         NaN  \n",
       "4         NaN  "
      ]
     },
     "execution_count": 94,
     "metadata": {},
     "output_type": "execute_result"
    }
   ],
   "source": [
    "rare_promoter_snps = pd.read_csv(\"%s/promoter_SNPs.hg38_multianno.nomissing.gnomad_below_0.01.csv\" % output, sep = '\\t')\n",
    "rare_promoter_snps.head()"
   ]
  },
  {
   "cell_type": "code",
   "execution_count": 95,
   "metadata": {},
   "outputs": [
    {
     "data": {
      "text/html": [
       "<div>\n",
       "<style scoped>\n",
       "    .dataframe tbody tr th:only-of-type {\n",
       "        vertical-align: middle;\n",
       "    }\n",
       "\n",
       "    .dataframe tbody tr th {\n",
       "        vertical-align: top;\n",
       "    }\n",
       "\n",
       "    .dataframe thead th {\n",
       "        text-align: right;\n",
       "    }\n",
       "</style>\n",
       "<table border=\"1\" class=\"dataframe\">\n",
       "  <thead>\n",
       "    <tr style=\"text-align: right;\">\n",
       "      <th></th>\n",
       "      <th>CHROM</th>\n",
       "      <th>POS</th>\n",
       "      <th>REF</th>\n",
       "      <th>ALT</th>\n",
       "      <th>AC</th>\n",
       "      <th>AF</th>\n",
       "      <th>AN</th>\n",
       "      <th>gnomAD_genome_ALL</th>\n",
       "      <th>gnomAD_genome_NFE</th>\n",
       "      <th>Unnamed: 9</th>\n",
       "    </tr>\n",
       "  </thead>\n",
       "  <tbody>\n",
       "    <tr>\n",
       "      <th>0</th>\n",
       "      <td>chr16</td>\n",
       "      <td>68497</td>\n",
       "      <td>C</td>\n",
       "      <td>T</td>\n",
       "      <td>3</td>\n",
       "      <td>0.065</td>\n",
       "      <td>46</td>\n",
       "      <td>0.002300</td>\n",
       "      <td>0.0042</td>\n",
       "      <td>NaN</td>\n",
       "    </tr>\n",
       "    <tr>\n",
       "      <th>1</th>\n",
       "      <td>chr16</td>\n",
       "      <td>69116</td>\n",
       "      <td>A</td>\n",
       "      <td>G</td>\n",
       "      <td>1</td>\n",
       "      <td>0.022</td>\n",
       "      <td>46</td>\n",
       "      <td>0.000097</td>\n",
       "      <td>0.0002</td>\n",
       "      <td>NaN</td>\n",
       "    </tr>\n",
       "    <tr>\n",
       "      <th>2</th>\n",
       "      <td>chr16</td>\n",
       "      <td>338412</td>\n",
       "      <td>T</td>\n",
       "      <td>C</td>\n",
       "      <td>1</td>\n",
       "      <td>0.022</td>\n",
       "      <td>46</td>\n",
       "      <td>0.002600</td>\n",
       "      <td>0.0042</td>\n",
       "      <td>NaN</td>\n",
       "    </tr>\n",
       "    <tr>\n",
       "      <th>3</th>\n",
       "      <td>chr16</td>\n",
       "      <td>843059</td>\n",
       "      <td>C</td>\n",
       "      <td>T</td>\n",
       "      <td>1</td>\n",
       "      <td>0.022</td>\n",
       "      <td>46</td>\n",
       "      <td>0.000400</td>\n",
       "      <td>0.0003</td>\n",
       "      <td>NaN</td>\n",
       "    </tr>\n",
       "    <tr>\n",
       "      <th>4</th>\n",
       "      <td>chr16</td>\n",
       "      <td>843964</td>\n",
       "      <td>G</td>\n",
       "      <td>T</td>\n",
       "      <td>1</td>\n",
       "      <td>0.022</td>\n",
       "      <td>46</td>\n",
       "      <td>0.003700</td>\n",
       "      <td>0.0048</td>\n",
       "      <td>NaN</td>\n",
       "    </tr>\n",
       "  </tbody>\n",
       "</table>\n",
       "</div>"
      ],
      "text/plain": [
       "   CHROM     POS REF ALT  AC     AF  AN  gnomAD_genome_ALL  gnomAD_genome_NFE  \\\n",
       "0  chr16   68497   C   T   3  0.065  46           0.002300             0.0042   \n",
       "1  chr16   69116   A   G   1  0.022  46           0.000097             0.0002   \n",
       "2  chr16  338412   T   C   1  0.022  46           0.002600             0.0042   \n",
       "3  chr16  843059   C   T   1  0.022  46           0.000400             0.0003   \n",
       "4  chr16  843964   G   T   1  0.022  46           0.003700             0.0048   \n",
       "\n",
       "   Unnamed: 9  \n",
       "0         NaN  \n",
       "1         NaN  \n",
       "2         NaN  \n",
       "3         NaN  \n",
       "4         NaN  "
      ]
     },
     "execution_count": 95,
     "metadata": {},
     "output_type": "execute_result"
    }
   ],
   "source": [
    "rare_enhancer_snps = pd.read_csv(\"%s/enhancer_SNPs.hg38_multianno.nomissing.gnomad_below_0.01.csv\" % output, sep = '\\t')\n",
    "rare_enhancer_snps.head()"
   ]
  },
  {
   "cell_type": "markdown",
   "metadata": {},
   "source": [
    "Both csv files contain empty \"Unnamed:9\" column - remove it."
   ]
  },
  {
   "cell_type": "code",
   "execution_count": 104,
   "metadata": {},
   "outputs": [
    {
     "data": {
      "text/html": [
       "<div>\n",
       "<style scoped>\n",
       "    .dataframe tbody tr th:only-of-type {\n",
       "        vertical-align: middle;\n",
       "    }\n",
       "\n",
       "    .dataframe tbody tr th {\n",
       "        vertical-align: top;\n",
       "    }\n",
       "\n",
       "    .dataframe thead th {\n",
       "        text-align: right;\n",
       "    }\n",
       "</style>\n",
       "<table border=\"1\" class=\"dataframe\">\n",
       "  <thead>\n",
       "    <tr style=\"text-align: right;\">\n",
       "      <th></th>\n",
       "      <th>CHROM</th>\n",
       "      <th>POS</th>\n",
       "      <th>REF</th>\n",
       "      <th>ALT</th>\n",
       "      <th>AC</th>\n",
       "      <th>AF</th>\n",
       "      <th>AN</th>\n",
       "      <th>gnomAD_genome_ALL</th>\n",
       "      <th>gnomAD_genome_NFE</th>\n",
       "    </tr>\n",
       "  </thead>\n",
       "  <tbody>\n",
       "    <tr>\n",
       "      <th>0</th>\n",
       "      <td>chr16</td>\n",
       "      <td>68497</td>\n",
       "      <td>C</td>\n",
       "      <td>T</td>\n",
       "      <td>3</td>\n",
       "      <td>0.065</td>\n",
       "      <td>46</td>\n",
       "      <td>0.002300</td>\n",
       "      <td>0.0042</td>\n",
       "    </tr>\n",
       "    <tr>\n",
       "      <th>1</th>\n",
       "      <td>chr16</td>\n",
       "      <td>69116</td>\n",
       "      <td>A</td>\n",
       "      <td>G</td>\n",
       "      <td>1</td>\n",
       "      <td>0.022</td>\n",
       "      <td>46</td>\n",
       "      <td>0.000097</td>\n",
       "      <td>0.0002</td>\n",
       "    </tr>\n",
       "    <tr>\n",
       "      <th>2</th>\n",
       "      <td>chr16</td>\n",
       "      <td>338412</td>\n",
       "      <td>T</td>\n",
       "      <td>C</td>\n",
       "      <td>1</td>\n",
       "      <td>0.022</td>\n",
       "      <td>46</td>\n",
       "      <td>0.002600</td>\n",
       "      <td>0.0042</td>\n",
       "    </tr>\n",
       "    <tr>\n",
       "      <th>3</th>\n",
       "      <td>chr16</td>\n",
       "      <td>843059</td>\n",
       "      <td>C</td>\n",
       "      <td>T</td>\n",
       "      <td>1</td>\n",
       "      <td>0.022</td>\n",
       "      <td>46</td>\n",
       "      <td>0.000400</td>\n",
       "      <td>0.0003</td>\n",
       "    </tr>\n",
       "    <tr>\n",
       "      <th>4</th>\n",
       "      <td>chr16</td>\n",
       "      <td>843964</td>\n",
       "      <td>G</td>\n",
       "      <td>T</td>\n",
       "      <td>1</td>\n",
       "      <td>0.022</td>\n",
       "      <td>46</td>\n",
       "      <td>0.003700</td>\n",
       "      <td>0.0048</td>\n",
       "    </tr>\n",
       "  </tbody>\n",
       "</table>\n",
       "</div>"
      ],
      "text/plain": [
       "   CHROM     POS REF ALT  AC     AF  AN  gnomAD_genome_ALL  gnomAD_genome_NFE\n",
       "0  chr16   68497   C   T   3  0.065  46           0.002300             0.0042\n",
       "1  chr16   69116   A   G   1  0.022  46           0.000097             0.0002\n",
       "2  chr16  338412   T   C   1  0.022  46           0.002600             0.0042\n",
       "3  chr16  843059   C   T   1  0.022  46           0.000400             0.0003\n",
       "4  chr16  843964   G   T   1  0.022  46           0.003700             0.0048"
      ]
     },
     "execution_count": 104,
     "metadata": {},
     "output_type": "execute_result"
    }
   ],
   "source": [
    "for df in [rare_enhancer_snps, rare_promoter_snps]:\n",
    "    for col in df.columns:\n",
    "        if \"Unnamed:\" in col:\n",
    "            df.drop(labels = col, axis=1, inplace = True)\n",
    "rare_enhancer_snps.head()"
   ]
  },
  {
   "cell_type": "code",
   "execution_count": 105,
   "metadata": {},
   "outputs": [
    {
     "data": {
      "text/html": [
       "<div>\n",
       "<style scoped>\n",
       "    .dataframe tbody tr th:only-of-type {\n",
       "        vertical-align: middle;\n",
       "    }\n",
       "\n",
       "    .dataframe tbody tr th {\n",
       "        vertical-align: top;\n",
       "    }\n",
       "\n",
       "    .dataframe thead th {\n",
       "        text-align: right;\n",
       "    }\n",
       "</style>\n",
       "<table border=\"1\" class=\"dataframe\">\n",
       "  <thead>\n",
       "    <tr style=\"text-align: right;\">\n",
       "      <th></th>\n",
       "      <th>CHROM</th>\n",
       "      <th>POS</th>\n",
       "      <th>REF</th>\n",
       "      <th>ALT</th>\n",
       "      <th>AC</th>\n",
       "      <th>AF</th>\n",
       "      <th>AN</th>\n",
       "      <th>gnomAD_genome_ALL</th>\n",
       "      <th>gnomAD_genome_NFE</th>\n",
       "    </tr>\n",
       "  </thead>\n",
       "  <tbody>\n",
       "    <tr>\n",
       "      <th>0</th>\n",
       "      <td>chr16</td>\n",
       "      <td>76736</td>\n",
       "      <td>G</td>\n",
       "      <td>A</td>\n",
       "      <td>2</td>\n",
       "      <td>0.043</td>\n",
       "      <td>46</td>\n",
       "      <td>0.000065</td>\n",
       "      <td>0.0001</td>\n",
       "    </tr>\n",
       "    <tr>\n",
       "      <th>1</th>\n",
       "      <td>chr16</td>\n",
       "      <td>138854</td>\n",
       "      <td>A</td>\n",
       "      <td>G</td>\n",
       "      <td>1</td>\n",
       "      <td>0.022</td>\n",
       "      <td>46</td>\n",
       "      <td>0.005400</td>\n",
       "      <td>0.0090</td>\n",
       "    </tr>\n",
       "    <tr>\n",
       "      <th>2</th>\n",
       "      <td>chr16</td>\n",
       "      <td>165546</td>\n",
       "      <td>T</td>\n",
       "      <td>C</td>\n",
       "      <td>1</td>\n",
       "      <td>0.022</td>\n",
       "      <td>46</td>\n",
       "      <td>0.000600</td>\n",
       "      <td>0.0011</td>\n",
       "    </tr>\n",
       "    <tr>\n",
       "      <th>3</th>\n",
       "      <td>chr16</td>\n",
       "      <td>165666</td>\n",
       "      <td>G</td>\n",
       "      <td>A</td>\n",
       "      <td>2</td>\n",
       "      <td>0.043</td>\n",
       "      <td>46</td>\n",
       "      <td>0.001400</td>\n",
       "      <td>0.0022</td>\n",
       "    </tr>\n",
       "    <tr>\n",
       "      <th>4</th>\n",
       "      <td>chr16</td>\n",
       "      <td>228588</td>\n",
       "      <td>A</td>\n",
       "      <td>G</td>\n",
       "      <td>1</td>\n",
       "      <td>0.022</td>\n",
       "      <td>46</td>\n",
       "      <td>0.003900</td>\n",
       "      <td>0.0067</td>\n",
       "    </tr>\n",
       "  </tbody>\n",
       "</table>\n",
       "</div>"
      ],
      "text/plain": [
       "   CHROM     POS REF ALT  AC     AF  AN  gnomAD_genome_ALL  gnomAD_genome_NFE\n",
       "0  chr16   76736   G   A   2  0.043  46           0.000065             0.0001\n",
       "1  chr16  138854   A   G   1  0.022  46           0.005400             0.0090\n",
       "2  chr16  165546   T   C   1  0.022  46           0.000600             0.0011\n",
       "3  chr16  165666   G   A   2  0.043  46           0.001400             0.0022\n",
       "4  chr16  228588   A   G   1  0.022  46           0.003900             0.0067"
      ]
     },
     "execution_count": 105,
     "metadata": {},
     "output_type": "execute_result"
    }
   ],
   "source": [
    "rare_promoter_snps.head()"
   ]
  },
  {
   "cell_type": "markdown",
   "metadata": {},
   "source": [
    "Calculate p-values for one-sided binomial test in which the number of successes is equal to the number of ALT alleles in the cohort (AC), the number of trials is equal to the total number of identified alleles (AN) and probability of success is equal to population frequency of ALT allele (gnomAD_genome_NFE). The alternative hypothesis is that observed frequency is greater than expected."
   ]
  },
  {
   "cell_type": "code",
   "execution_count": 106,
   "metadata": {},
   "outputs": [],
   "source": [
    "def calc_binom_pval(row):\n",
    "        x = row['AC']\n",
    "        n = row['AN']\n",
    "        p = float(row['gnomAD_genome_NFE'])        \n",
    "\n",
    "        return binom_test(x,n,p, alternative = 'greater')  "
   ]
  },
  {
   "cell_type": "code",
   "execution_count": 108,
   "metadata": {},
   "outputs": [],
   "source": [
    "for df in [rare_enhancer_snps, rare_promoter_snps]:            \n",
    "    df['binom_pval']=df.apply(calc_binom_pval, axis=1)\n",
    "    \n",
    "    #apply correction for multiple hypothesis testing with the Benjamini-Hochberg procedure, use FDR = 0.01\n",
    "    multipletests_correction = multipletests(df['binom_pval'], alpha=0.01, \n",
    "              method='fdr_bh', is_sorted=False, returnsorted=False)\n",
    "    df['B-H_reject_H0'] = multipletests_correction[0]\n",
    "    df['corrected_binom_pval'] = multipletests_correction[1]"
   ]
  },
  {
   "cell_type": "code",
   "execution_count": 109,
   "metadata": {},
   "outputs": [
    {
     "data": {
      "text/html": [
       "<div>\n",
       "<style scoped>\n",
       "    .dataframe tbody tr th:only-of-type {\n",
       "        vertical-align: middle;\n",
       "    }\n",
       "\n",
       "    .dataframe tbody tr th {\n",
       "        vertical-align: top;\n",
       "    }\n",
       "\n",
       "    .dataframe thead th {\n",
       "        text-align: right;\n",
       "    }\n",
       "</style>\n",
       "<table border=\"1\" class=\"dataframe\">\n",
       "  <thead>\n",
       "    <tr style=\"text-align: right;\">\n",
       "      <th></th>\n",
       "      <th>CHROM</th>\n",
       "      <th>POS</th>\n",
       "      <th>REF</th>\n",
       "      <th>ALT</th>\n",
       "      <th>AC</th>\n",
       "      <th>AF</th>\n",
       "      <th>AN</th>\n",
       "      <th>gnomAD_genome_ALL</th>\n",
       "      <th>gnomAD_genome_NFE</th>\n",
       "      <th>binom_pval</th>\n",
       "      <th>B-H_reject_H0</th>\n",
       "      <th>corrected_binom_pval</th>\n",
       "    </tr>\n",
       "  </thead>\n",
       "  <tbody>\n",
       "    <tr>\n",
       "      <th>0</th>\n",
       "      <td>chr16</td>\n",
       "      <td>76736</td>\n",
       "      <td>G</td>\n",
       "      <td>A</td>\n",
       "      <td>2</td>\n",
       "      <td>0.043</td>\n",
       "      <td>46</td>\n",
       "      <td>0.000065</td>\n",
       "      <td>0.0001</td>\n",
       "      <td>0.000010</td>\n",
       "      <td>True</td>\n",
       "      <td>0.000120</td>\n",
       "    </tr>\n",
       "    <tr>\n",
       "      <th>1</th>\n",
       "      <td>chr16</td>\n",
       "      <td>138854</td>\n",
       "      <td>A</td>\n",
       "      <td>G</td>\n",
       "      <td>1</td>\n",
       "      <td>0.022</td>\n",
       "      <td>46</td>\n",
       "      <td>0.005400</td>\n",
       "      <td>0.0090</td>\n",
       "      <td>0.340237</td>\n",
       "      <td>False</td>\n",
       "      <td>0.345315</td>\n",
       "    </tr>\n",
       "    <tr>\n",
       "      <th>2</th>\n",
       "      <td>chr16</td>\n",
       "      <td>165546</td>\n",
       "      <td>T</td>\n",
       "      <td>C</td>\n",
       "      <td>1</td>\n",
       "      <td>0.022</td>\n",
       "      <td>46</td>\n",
       "      <td>0.000600</td>\n",
       "      <td>0.0011</td>\n",
       "      <td>0.049368</td>\n",
       "      <td>False</td>\n",
       "      <td>0.086077</td>\n",
       "    </tr>\n",
       "    <tr>\n",
       "      <th>3</th>\n",
       "      <td>chr16</td>\n",
       "      <td>165666</td>\n",
       "      <td>G</td>\n",
       "      <td>A</td>\n",
       "      <td>2</td>\n",
       "      <td>0.043</td>\n",
       "      <td>46</td>\n",
       "      <td>0.001400</td>\n",
       "      <td>0.0022</td>\n",
       "      <td>0.004697</td>\n",
       "      <td>False</td>\n",
       "      <td>0.017583</td>\n",
       "    </tr>\n",
       "    <tr>\n",
       "      <th>4</th>\n",
       "      <td>chr16</td>\n",
       "      <td>228588</td>\n",
       "      <td>A</td>\n",
       "      <td>G</td>\n",
       "      <td>1</td>\n",
       "      <td>0.022</td>\n",
       "      <td>46</td>\n",
       "      <td>0.003900</td>\n",
       "      <td>0.0067</td>\n",
       "      <td>0.265993</td>\n",
       "      <td>False</td>\n",
       "      <td>0.287104</td>\n",
       "    </tr>\n",
       "  </tbody>\n",
       "</table>\n",
       "</div>"
      ],
      "text/plain": [
       "   CHROM     POS REF ALT  AC     AF  AN  gnomAD_genome_ALL  gnomAD_genome_NFE  \\\n",
       "0  chr16   76736   G   A   2  0.043  46           0.000065             0.0001   \n",
       "1  chr16  138854   A   G   1  0.022  46           0.005400             0.0090   \n",
       "2  chr16  165546   T   C   1  0.022  46           0.000600             0.0011   \n",
       "3  chr16  165666   G   A   2  0.043  46           0.001400             0.0022   \n",
       "4  chr16  228588   A   G   1  0.022  46           0.003900             0.0067   \n",
       "\n",
       "   binom_pval  B-H_reject_H0  corrected_binom_pval  \n",
       "0    0.000010           True              0.000120  \n",
       "1    0.340237          False              0.345315  \n",
       "2    0.049368          False              0.086077  \n",
       "3    0.004697          False              0.017583  \n",
       "4    0.265993          False              0.287104  "
      ]
     },
     "execution_count": 109,
     "metadata": {},
     "output_type": "execute_result"
    }
   ],
   "source": [
    "rare_promoter_snps.head()"
   ]
  },
  {
   "cell_type": "code",
   "execution_count": 110,
   "metadata": {},
   "outputs": [
    {
     "data": {
      "text/html": [
       "<div>\n",
       "<style scoped>\n",
       "    .dataframe tbody tr th:only-of-type {\n",
       "        vertical-align: middle;\n",
       "    }\n",
       "\n",
       "    .dataframe tbody tr th {\n",
       "        vertical-align: top;\n",
       "    }\n",
       "\n",
       "    .dataframe thead th {\n",
       "        text-align: right;\n",
       "    }\n",
       "</style>\n",
       "<table border=\"1\" class=\"dataframe\">\n",
       "  <thead>\n",
       "    <tr style=\"text-align: right;\">\n",
       "      <th></th>\n",
       "      <th>CHROM</th>\n",
       "      <th>POS</th>\n",
       "      <th>REF</th>\n",
       "      <th>ALT</th>\n",
       "      <th>AC</th>\n",
       "      <th>AF</th>\n",
       "      <th>AN</th>\n",
       "      <th>gnomAD_genome_ALL</th>\n",
       "      <th>gnomAD_genome_NFE</th>\n",
       "      <th>binom_pval</th>\n",
       "      <th>B-H_reject_H0</th>\n",
       "      <th>corrected_binom_pval</th>\n",
       "    </tr>\n",
       "  </thead>\n",
       "  <tbody>\n",
       "    <tr>\n",
       "      <th>0</th>\n",
       "      <td>chr16</td>\n",
       "      <td>68497</td>\n",
       "      <td>C</td>\n",
       "      <td>T</td>\n",
       "      <td>3</td>\n",
       "      <td>0.065</td>\n",
       "      <td>46</td>\n",
       "      <td>0.002300</td>\n",
       "      <td>0.0042</td>\n",
       "      <td>0.000983</td>\n",
       "      <td>False</td>\n",
       "      <td>0.011791</td>\n",
       "    </tr>\n",
       "    <tr>\n",
       "      <th>1</th>\n",
       "      <td>chr16</td>\n",
       "      <td>69116</td>\n",
       "      <td>A</td>\n",
       "      <td>G</td>\n",
       "      <td>1</td>\n",
       "      <td>0.022</td>\n",
       "      <td>46</td>\n",
       "      <td>0.000097</td>\n",
       "      <td>0.0002</td>\n",
       "      <td>0.009159</td>\n",
       "      <td>False</td>\n",
       "      <td>0.030135</td>\n",
       "    </tr>\n",
       "    <tr>\n",
       "      <th>2</th>\n",
       "      <td>chr16</td>\n",
       "      <td>338412</td>\n",
       "      <td>T</td>\n",
       "      <td>C</td>\n",
       "      <td>1</td>\n",
       "      <td>0.022</td>\n",
       "      <td>46</td>\n",
       "      <td>0.002600</td>\n",
       "      <td>0.0042</td>\n",
       "      <td>0.176018</td>\n",
       "      <td>False</td>\n",
       "      <td>0.215016</td>\n",
       "    </tr>\n",
       "    <tr>\n",
       "      <th>3</th>\n",
       "      <td>chr16</td>\n",
       "      <td>843059</td>\n",
       "      <td>C</td>\n",
       "      <td>T</td>\n",
       "      <td>1</td>\n",
       "      <td>0.022</td>\n",
       "      <td>46</td>\n",
       "      <td>0.000400</td>\n",
       "      <td>0.0003</td>\n",
       "      <td>0.013707</td>\n",
       "      <td>False</td>\n",
       "      <td>0.037284</td>\n",
       "    </tr>\n",
       "    <tr>\n",
       "      <th>4</th>\n",
       "      <td>chr16</td>\n",
       "      <td>843964</td>\n",
       "      <td>G</td>\n",
       "      <td>T</td>\n",
       "      <td>1</td>\n",
       "      <td>0.022</td>\n",
       "      <td>46</td>\n",
       "      <td>0.003700</td>\n",
       "      <td>0.0048</td>\n",
       "      <td>0.198549</td>\n",
       "      <td>False</td>\n",
       "      <td>0.232782</td>\n",
       "    </tr>\n",
       "  </tbody>\n",
       "</table>\n",
       "</div>"
      ],
      "text/plain": [
       "   CHROM     POS REF ALT  AC     AF  AN  gnomAD_genome_ALL  gnomAD_genome_NFE  \\\n",
       "0  chr16   68497   C   T   3  0.065  46           0.002300             0.0042   \n",
       "1  chr16   69116   A   G   1  0.022  46           0.000097             0.0002   \n",
       "2  chr16  338412   T   C   1  0.022  46           0.002600             0.0042   \n",
       "3  chr16  843059   C   T   1  0.022  46           0.000400             0.0003   \n",
       "4  chr16  843964   G   T   1  0.022  46           0.003700             0.0048   \n",
       "\n",
       "   binom_pval  B-H_reject_H0  corrected_binom_pval  \n",
       "0    0.000983          False              0.011791  \n",
       "1    0.009159          False              0.030135  \n",
       "2    0.176018          False              0.215016  \n",
       "3    0.013707          False              0.037284  \n",
       "4    0.198549          False              0.232782  "
      ]
     },
     "execution_count": 110,
     "metadata": {},
     "output_type": "execute_result"
    }
   ],
   "source": [
    "rare_enhancer_snps.head()"
   ]
  },
  {
   "cell_type": "markdown",
   "metadata": {},
   "source": [
    "Select SNPs significantly enriched in analyzed cohort at FDR = 0.01."
   ]
  },
  {
   "cell_type": "code",
   "execution_count": 111,
   "metadata": {},
   "outputs": [
    {
     "name": "stdout",
     "output_type": "stream",
     "text": [
      "49 SNPs in promoters are enriched in analyzed cohort.\n",
      "16 SNPs in enhancers are enriched in analyzed cohort.\n"
     ]
    }
   ],
   "source": [
    "rare_enriched_promoter_snps = rare_promoter_snps[rare_promoter_snps[\"B-H_reject_H0\"]]\n",
    "rare_enriched_enhancer_snps = rare_enhancer_snps[rare_enhancer_snps[\"B-H_reject_H0\"]]\n",
    "print(len(rare_enriched_promoter_snps), \"SNPs in promoters are enriched in analyzed cohort.\")\n",
    "print(len(rare_enriched_enhancer_snps), \"SNPs in enhancers are enriched in analyzed cohort.\")"
   ]
  },
  {
   "cell_type": "markdown",
   "metadata": {},
   "source": [
    "# Annotate with predicted TF binding sites"
   ]
  },
  {
   "cell_type": "markdown",
   "metadata": {},
   "source": [
    "Use motifbreakR package and Hocomoco v11 full database of TF models to identify SNPs which may destroy or create a TF binding site."
   ]
  },
  {
   "cell_type": "code",
   "execution_count": null,
   "metadata": {},
   "outputs": [],
   "source": []
  }
 ],
 "metadata": {
  "kernelspec": {
   "display_name": "Python 3",
   "language": "python",
   "name": "python3"
  },
  "language_info": {
   "codemirror_mode": {
    "name": "ipython",
    "version": 3
   },
   "file_extension": ".py",
   "mimetype": "text/x-python",
   "name": "python",
   "nbconvert_exporter": "python",
   "pygments_lexer": "ipython3",
   "version": "3.8.5"
  },
  "toc-autonumbering": true
 },
 "nbformat": 4,
 "nbformat_minor": 4
}
